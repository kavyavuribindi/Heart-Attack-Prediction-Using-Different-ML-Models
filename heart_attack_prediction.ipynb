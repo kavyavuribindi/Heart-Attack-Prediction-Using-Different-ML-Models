{
 "cells": [
  {
   "cell_type": "markdown",
   "metadata": {},
   "source": [
    "## Packages Required"
   ]
  },
  {
   "cell_type": "code",
   "execution_count": 1,
   "metadata": {},
   "outputs": [],
   "source": [
    "#loading dataset\n",
    "import pandas as pd\n",
    "import numpy as np\n",
    "#visualisation\n",
    "import matplotlib.pyplot as plt\n",
    "%matplotlib inline\n",
    "import seaborn as sns\n",
    "#EDA\n",
    "from collections import Counter\n",
    "# import pandas_profiling as pp\n",
    "# data preprocessing\n",
    "from sklearn.preprocessing import StandardScaler\n",
    "# data splitting\n",
    "from sklearn.model_selection import train_test_split\n",
    "# data modeling\n",
    "from sklearn.metrics import confusion_matrix,accuracy_score,roc_curve,classification_report\n",
    "from sklearn.linear_model import LogisticRegression\n",
    "from sklearn.naive_bayes import GaussianNB\n",
    "# from xgboost import XGBClassifier\n",
    "from sklearn.ensemble import RandomForestClassifier\n",
    "from sklearn.tree import DecisionTreeClassifier\n",
    "from sklearn.neighbors import KNeighborsClassifier\n",
    "from sklearn.naive_bayes import GaussianNB\n",
    "from sklearn.svm import SVC\n",
    "#ensembling\n",
    "# from mlxtend.classifier import StackingCVClassifier"
   ]
  },
  {
   "cell_type": "code",
   "execution_count": 2,
   "metadata": {
    "_cell_guid": "79c7e3d0-c299-4dcb-8224-4455121ee9b0",
    "_uuid": "d629ff2d2480ee46fbb7e2d37f6b5fab8052498a"
   },
   "outputs": [
    {
     "data": {
      "text/html": [
       "<div>\n",
       "<style scoped>\n",
       "    .dataframe tbody tr th:only-of-type {\n",
       "        vertical-align: middle;\n",
       "    }\n",
       "\n",
       "    .dataframe tbody tr th {\n",
       "        vertical-align: top;\n",
       "    }\n",
       "\n",
       "    .dataframe thead th {\n",
       "        text-align: right;\n",
       "    }\n",
       "</style>\n",
       "<table border=\"1\" class=\"dataframe\">\n",
       "  <thead>\n",
       "    <tr style=\"text-align: right;\">\n",
       "      <th></th>\n",
       "      <th>age</th>\n",
       "      <th>sex</th>\n",
       "      <th>cp</th>\n",
       "      <th>trestbps</th>\n",
       "      <th>chol</th>\n",
       "      <th>fbs</th>\n",
       "      <th>restecg</th>\n",
       "      <th>thalach</th>\n",
       "      <th>exang</th>\n",
       "      <th>oldpeak</th>\n",
       "      <th>slope</th>\n",
       "      <th>ca</th>\n",
       "      <th>thal</th>\n",
       "      <th>target</th>\n",
       "    </tr>\n",
       "  </thead>\n",
       "  <tbody>\n",
       "    <tr>\n",
       "      <th>0</th>\n",
       "      <td>52</td>\n",
       "      <td>1</td>\n",
       "      <td>0</td>\n",
       "      <td>125</td>\n",
       "      <td>212</td>\n",
       "      <td>0</td>\n",
       "      <td>1</td>\n",
       "      <td>168</td>\n",
       "      <td>0</td>\n",
       "      <td>1.0</td>\n",
       "      <td>2</td>\n",
       "      <td>2</td>\n",
       "      <td>3</td>\n",
       "      <td>0</td>\n",
       "    </tr>\n",
       "    <tr>\n",
       "      <th>1</th>\n",
       "      <td>53</td>\n",
       "      <td>1</td>\n",
       "      <td>0</td>\n",
       "      <td>140</td>\n",
       "      <td>203</td>\n",
       "      <td>1</td>\n",
       "      <td>0</td>\n",
       "      <td>155</td>\n",
       "      <td>1</td>\n",
       "      <td>3.1</td>\n",
       "      <td>0</td>\n",
       "      <td>0</td>\n",
       "      <td>3</td>\n",
       "      <td>0</td>\n",
       "    </tr>\n",
       "    <tr>\n",
       "      <th>2</th>\n",
       "      <td>70</td>\n",
       "      <td>1</td>\n",
       "      <td>0</td>\n",
       "      <td>145</td>\n",
       "      <td>174</td>\n",
       "      <td>0</td>\n",
       "      <td>1</td>\n",
       "      <td>125</td>\n",
       "      <td>1</td>\n",
       "      <td>2.6</td>\n",
       "      <td>0</td>\n",
       "      <td>0</td>\n",
       "      <td>3</td>\n",
       "      <td>0</td>\n",
       "    </tr>\n",
       "    <tr>\n",
       "      <th>3</th>\n",
       "      <td>61</td>\n",
       "      <td>1</td>\n",
       "      <td>0</td>\n",
       "      <td>148</td>\n",
       "      <td>203</td>\n",
       "      <td>0</td>\n",
       "      <td>1</td>\n",
       "      <td>161</td>\n",
       "      <td>0</td>\n",
       "      <td>0.0</td>\n",
       "      <td>2</td>\n",
       "      <td>1</td>\n",
       "      <td>3</td>\n",
       "      <td>0</td>\n",
       "    </tr>\n",
       "    <tr>\n",
       "      <th>4</th>\n",
       "      <td>62</td>\n",
       "      <td>0</td>\n",
       "      <td>0</td>\n",
       "      <td>138</td>\n",
       "      <td>294</td>\n",
       "      <td>1</td>\n",
       "      <td>1</td>\n",
       "      <td>106</td>\n",
       "      <td>0</td>\n",
       "      <td>1.9</td>\n",
       "      <td>1</td>\n",
       "      <td>3</td>\n",
       "      <td>2</td>\n",
       "      <td>0</td>\n",
       "    </tr>\n",
       "  </tbody>\n",
       "</table>\n",
       "</div>"
      ],
      "text/plain": [
       "   age  sex  cp  trestbps  chol  fbs  restecg  thalach  exang  oldpeak  slope  \\\n",
       "0   52    1   0       125   212    0        1      168      0      1.0      2   \n",
       "1   53    1   0       140   203    1        0      155      1      3.1      0   \n",
       "2   70    1   0       145   174    0        1      125      1      2.6      0   \n",
       "3   61    1   0       148   203    0        1      161      0      0.0      2   \n",
       "4   62    0   0       138   294    1        1      106      0      1.9      1   \n",
       "\n",
       "   ca  thal  target  \n",
       "0   2     3       0  \n",
       "1   0     3       0  \n",
       "2   0     3       0  \n",
       "3   1     3       0  \n",
       "4   3     2       0  "
      ]
     },
     "execution_count": 2,
     "metadata": {},
     "output_type": "execute_result"
    }
   ],
   "source": [
    "data = pd.read_csv('heart.csv')\n",
    "data.head()"
   ]
  },
  {
   "cell_type": "code",
   "execution_count": 3,
   "metadata": {},
   "outputs": [
    {
     "name": "stdout",
     "output_type": "stream",
     "text": [
      "<class 'pandas.core.frame.DataFrame'>\n",
      "RangeIndex: 1025 entries, 0 to 1024\n",
      "Data columns (total 14 columns):\n",
      " #   Column    Non-Null Count  Dtype  \n",
      "---  ------    --------------  -----  \n",
      " 0   age       1025 non-null   int64  \n",
      " 1   sex       1025 non-null   int64  \n",
      " 2   cp        1025 non-null   int64  \n",
      " 3   trestbps  1025 non-null   int64  \n",
      " 4   chol      1025 non-null   int64  \n",
      " 5   fbs       1025 non-null   int64  \n",
      " 6   restecg   1025 non-null   int64  \n",
      " 7   thalach   1025 non-null   int64  \n",
      " 8   exang     1025 non-null   int64  \n",
      " 9   oldpeak   1025 non-null   float64\n",
      " 10  slope     1025 non-null   int64  \n",
      " 11  ca        1025 non-null   int64  \n",
      " 12  thal      1025 non-null   int64  \n",
      " 13  target    1025 non-null   int64  \n",
      "dtypes: float64(1), int64(13)\n",
      "memory usage: 112.2 KB\n"
     ]
    }
   ],
   "source": [
    "data.info()"
   ]
  },
  {
   "cell_type": "markdown",
   "metadata": {},
   "source": [
    "## **EDA**"
   ]
  },
  {
   "cell_type": "code",
   "execution_count": 4,
   "metadata": {},
   "outputs": [
    {
     "ename": "NameError",
     "evalue": "name 'pp' is not defined",
     "output_type": "error",
     "traceback": [
      "\u001b[1;31m---------------------------------------------------------------------------\u001b[0m",
      "\u001b[1;31mNameError\u001b[0m                                 Traceback (most recent call last)",
      "Input \u001b[1;32mIn [4]\u001b[0m, in \u001b[0;36m<cell line: 1>\u001b[1;34m()\u001b[0m\n\u001b[1;32m----> 1\u001b[0m \u001b[43mpp\u001b[49m\u001b[38;5;241m.\u001b[39mProfileReport(data)\n",
      "\u001b[1;31mNameError\u001b[0m: name 'pp' is not defined"
     ]
    }
   ],
   "source": [
    "pp.ProfileReport(data)"
   ]
  },
  {
   "cell_type": "markdown",
   "metadata": {},
   "source": [
    "## **Model prepration**"
   ]
  },
  {
   "cell_type": "code",
   "execution_count": null,
   "metadata": {},
   "outputs": [],
   "source": [
    "y = data[\"target\"]\n",
    "X = data.drop('target',axis=1)\n",
    "X_train, X_test, y_train, y_test = train_test_split(X, y, test_size=0.20, random_state = 0)"
   ]
  },
  {
   "cell_type": "markdown",
   "metadata": {},
   "source": [
    "**Before applying algorithm we should check whether the data is equally splitted or not, because if data is not splitted equally it will cause for data imbalacing problem**"
   ]
  },
  {
   "cell_type": "code",
   "execution_count": null,
   "metadata": {},
   "outputs": [],
   "source": [
    "print(y_test.unique())\n",
    "Counter(y_train)"
   ]
  },
  {
   "cell_type": "code",
   "execution_count": null,
   "metadata": {},
   "outputs": [],
   "source": [
    "scaler = StandardScaler()\n",
    "X_train = scaler.fit_transform(X_train)\n",
    "X_test = scaler.transform(X_test)"
   ]
  },
  {
   "cell_type": "markdown",
   "metadata": {},
   "source": [
    "## **ML models**\n",
    "\n",
    "Here I take different machine learning algorithm and try to find algorithm which predict accurately.\n",
    "\n",
    "1. Logistic Regression\n",
    "2. Naive Bayes\n",
    "3. Random Forest Classifier\n",
    "4. Extreme Gradient Boost\n",
    "5. K-Nearest Neighbour\n",
    "6. Decision Tree\n",
    "7. Support Vector Machine\n"
   ]
  },
  {
   "cell_type": "code",
   "execution_count": null,
   "metadata": {},
   "outputs": [],
   "source": [
    "m1 = 'Logistic Regression'\n",
    "lr = LogisticRegression()\n",
    "model = lr.fit(X_train, y_train)\n",
    "lr_predict = lr.predict(X_test)\n",
    "lr_conf_matrix = confusion_matrix(y_test, lr_predict)\n",
    "lr_acc_score = accuracy_score(y_test, lr_predict)\n",
    "print(\"confussion matrix\")\n",
    "print(lr_conf_matrix)\n",
    "print(\"\\n\")\n",
    "print(\"Accuracy of Logistic Regression:\",lr_acc_score*100,'\\n')\n",
    "print(classification_report(y_test,lr_predict))"
   ]
  },
  {
   "cell_type": "code",
   "execution_count": null,
   "metadata": {},
   "outputs": [],
   "source": [
    "m2 = 'Naive Bayes'\n",
    "nb = GaussianNB()\n",
    "nb.fit(X_train,y_train)\n",
    "nbpred = nb.predict(X_test)\n",
    "nb_conf_matrix = confusion_matrix(y_test, nbpred)\n",
    "nb_acc_score = accuracy_score(y_test, nbpred)\n",
    "print(\"confussion matrix\")\n",
    "print(nb_conf_matrix)\n",
    "print(\"\\n\")\n",
    "print(\"Accuracy of Naive Bayes model:\",nb_acc_score*100,'\\n')\n",
    "print(classification_report(y_test,nbpred))"
   ]
  },
  {
   "cell_type": "code",
   "execution_count": null,
   "metadata": {},
   "outputs": [],
   "source": [
    "m3 = 'Random Forest Classfier'\n",
    "rf = RandomForestClassifier(n_estimators=20, random_state=12,max_depth=5)\n",
    "rf.fit(X_train,y_train)\n",
    "rf_predicted = rf.predict(X_test)\n",
    "rf_conf_matrix = confusion_matrix(y_test, rf_predicted)\n",
    "rf_acc_score = accuracy_score(y_test, rf_predicted)\n",
    "print(\"confussion matrix\")\n",
    "print(rf_conf_matrix)\n",
    "print(\"\\n\")\n",
    "print(\"Accuracy of Random Forest:\",rf_acc_score*100,'\\n')\n",
    "print(classification_report(y_test,rf_predicted))"
   ]
  },
  {
   "cell_type": "code",
   "execution_count": null,
   "metadata": {},
   "outputs": [],
   "source": [
    "m4 = 'Extreme Gradient Boost'\n",
    "xgb = XGBClassifier(learning_rate=0.01, n_estimators=25, max_depth=15,gamma=0.6, subsample=0.52,colsample_bytree=0.6,seed=27, \n",
    "                    reg_lambda=2, booster='dart', colsample_bylevel=0.6, colsample_bynode=0.5)\n",
    "xgb.fit(X_train, y_train)\n",
    "xgb_predicted = xgb.predict(X_test)\n",
    "xgb_conf_matrix = confusion_matrix(y_test, xgb_predicted)\n",
    "xgb_acc_score = accuracy_score(y_test, xgb_predicted)\n",
    "print(\"confussion matrix\")\n",
    "print(xgb_conf_matrix)\n",
    "print(\"\\n\")\n",
    "print(\"Accuracy of Extreme Gradient Boost:\",xgb_acc_score*100,'\\n')\n",
    "print(classification_report(y_test,xgb_predicted))"
   ]
  },
  {
   "cell_type": "code",
   "execution_count": null,
   "metadata": {},
   "outputs": [],
   "source": [
    "m5 = 'K-NeighborsClassifier'\n",
    "knn = KNeighborsClassifier(n_neighbors=10)\n",
    "knn.fit(X_train, y_train)\n",
    "knn_predicted = knn.predict(X_test)\n",
    "knn_conf_matrix = confusion_matrix(y_test, knn_predicted)\n",
    "knn_acc_score = accuracy_score(y_test, knn_predicted)\n",
    "print(\"confussion matrix\")\n",
    "print(knn_conf_matrix)\n",
    "print(\"\\n\")\n",
    "print(\"Accuracy of K-NeighborsClassifier:\",knn_acc_score*100,'\\n')\n",
    "print(classification_report(y_test,knn_predicted))"
   ]
  },
  {
   "cell_type": "code",
   "execution_count": null,
   "metadata": {},
   "outputs": [],
   "source": [
    "m6 = 'DecisionTreeClassifier'\n",
    "dt = DecisionTreeClassifier(criterion = 'entropy',random_state=0,max_depth = 6)\n",
    "dt.fit(X_train, y_train)\n",
    "dt_predicted = dt.predict(X_test)\n",
    "dt_conf_matrix = confusion_matrix(y_test, dt_predicted)\n",
    "dt_acc_score = accuracy_score(y_test, dt_predicted)\n",
    "print(\"confussion matrix\")\n",
    "print(dt_conf_matrix)\n",
    "print(\"\\n\")\n",
    "print(\"Accuracy of DecisionTreeClassifier:\",dt_acc_score*100,'\\n')\n",
    "print(classification_report(y_test,dt_predicted))"
   ]
  },
  {
   "cell_type": "code",
   "execution_count": null,
   "metadata": {},
   "outputs": [],
   "source": [
    "m7 = 'Support Vector Classifier'\n",
    "svc =  SVC(kernel='rbf', C=2)\n",
    "svc.fit(X_train, y_train)\n",
    "svc_predicted = svc.predict(X_test)\n",
    "svc_conf_matrix = confusion_matrix(y_test, svc_predicted)\n",
    "svc_acc_score = accuracy_score(y_test, svc_predicted)\n",
    "print(\"confussion matrix\")\n",
    "print(svc_conf_matrix)\n",
    "print(\"\\n\")\n",
    "print(\"Accuracy of Support Vector Classifier:\",svc_acc_score*100,'\\n')\n",
    "print(classification_report(y_test,svc_predicted))"
   ]
  },
  {
   "cell_type": "code",
   "execution_count": null,
   "metadata": {},
   "outputs": [],
   "source": [
    "imp_feature = pd.DataFrame({'Feature': ['age', 'sex', 'cp', 'trestbps', 'chol', 'fbs', 'restecg', 'thalach',\n",
    "       'exang', 'oldpeak', 'slope', 'ca', 'thal'], 'Importance': xgb.feature_importances_})\n",
    "plt.figure(figsize=(10,4))\n",
    "plt.title(\"barplot Represent feature importance \")\n",
    "plt.xlabel(\"importance \")\n",
    "plt.ylabel(\"features\")\n",
    "plt.barh(imp_feature['Feature'],imp_feature['Importance'],color = 'rgbkymc')\n",
    "plt.show()"
   ]
  },
  {
   "cell_type": "code",
   "execution_count": null,
   "metadata": {},
   "outputs": [],
   "source": [
    "lr_false_positive_rate,lr_true_positive_rate,lr_threshold = roc_curve(y_test,lr_predict)\n",
    "nb_false_positive_rate,nb_true_positive_rate,nb_threshold = roc_curve(y_test,nbpred)\n",
    "rf_false_positive_rate,rf_true_positive_rate,rf_threshold = roc_curve(y_test,rf_predicted)                                                             \n",
    "xgb_false_positive_rate,xgb_true_positive_rate,xgb_threshold = roc_curve(y_test,xgb_predicted)\n",
    "knn_false_positive_rate,knn_true_positive_rate,knn_threshold = roc_curve(y_test,knn_predicted)\n",
    "dt_false_positive_rate,dt_true_positive_rate,dt_threshold = roc_curve(y_test,dt_predicted)\n",
    "svc_false_positive_rate,svc_true_positive_rate,svc_threshold = roc_curve(y_test,svc_predicted)\n",
    "\n",
    "\n",
    "sns.set_style('whitegrid')\n",
    "plt.figure(figsize=(10,5))\n",
    "plt.title('Reciver Operating Characterstic Curve')\n",
    "plt.plot(lr_false_positive_rate,lr_true_positive_rate,label='Logistic Regression')\n",
    "plt.plot(nb_false_positive_rate,nb_true_positive_rate,label='Naive Bayes')\n",
    "plt.plot(rf_false_positive_rate,rf_true_positive_rate,label='Random Forest')\n",
    "plt.plot(xgb_false_positive_rate,xgb_true_positive_rate,label='Extreme Gradient Boost')\n",
    "plt.plot(knn_false_positive_rate,knn_true_positive_rate,label='K-Nearest Neighbor')\n",
    "plt.plot(dt_false_positive_rate,dt_true_positive_rate,label='Desion Tree')\n",
    "plt.plot(svc_false_positive_rate,svc_true_positive_rate,label='Support Vector Classifier')\n",
    "plt.plot([0,1],ls='--')\n",
    "plt.plot([0,0],[1,0],c='.5')\n",
    "plt.plot([1,1],c='.5')\n",
    "plt.ylabel('True positive rate')\n",
    "plt.xlabel('False positive rate')\n",
    "plt.legend()\n",
    "plt.show()"
   ]
  },
  {
   "cell_type": "markdown",
   "metadata": {},
   "source": [
    "# **Model Evaluation**"
   ]
  },
  {
   "cell_type": "code",
   "execution_count": null,
   "metadata": {},
   "outputs": [],
   "source": [
    "model_ev = pd.DataFrame({'Model': ['Logistic Regression','Naive Bayes','Random Forest','Extreme Gradient Boost',\n",
    "                    'K-Nearest Neighbour','Decision Tree','Support Vector Machine'], 'Accuracy': [lr_acc_score*100,\n",
    "                    nb_acc_score*100,rf_acc_score*100,xgb_acc_score*100,knn_acc_score*100,dt_acc_score*100,svc_acc_score*100]})\n",
    "model_ev"
   ]
  },
  {
   "cell_type": "code",
   "execution_count": null,
   "metadata": {},
   "outputs": [],
   "source": [
    "colors = ['red','green','blue','gold','silver','yellow','orange',]\n",
    "plt.figure(figsize=(12,5))\n",
    "plt.title(\"barplot Represent Accuracy of different models\")\n",
    "plt.xlabel(\"Accuracy %\")\n",
    "plt.ylabel(\"Algorithms\")\n",
    "plt.bar(model_ev['Model'],model_ev['Accuracy'],color = colors)\n",
    "plt.show()"
   ]
  },
  {
   "cell_type": "markdown",
   "metadata": {},
   "source": [
    "## **Ensembling**\n",
    "\n",
    "> **In order to increase the accuracy of the model we use ensembling. Here we use stacking technique.**"
   ]
  },
  {
   "cell_type": "code",
   "execution_count": null,
   "metadata": {},
   "outputs": [],
   "source": [
    "scv=StackingCVClassifier(classifiers=[xgb,knn,svc],meta_classifier= svc,random_state=42)\n",
    "scv.fit(X_train,y_train)\n",
    "scv_predicted = scv.predict(X_test)\n",
    "scv_conf_matrix = confusion_matrix(y_test, scv_predicted)\n",
    "scv_acc_score = accuracy_score(y_test, scv_predicted)\n",
    "print(\"confussion matrix\")\n",
    "print(scv_conf_matrix)\n",
    "print(\"\\n\")\n",
    "print(\"Accuracy of StackingCVClassifier:\",scv_acc_score*100,'\\n')\n",
    "print(classification_report(y_test,scv_predicted))"
   ]
  },
  {
   "cell_type": "markdown",
   "metadata": {},
   "source": [
    "# **Conclusion**\n",
    "\n",
    "1) Extreme Gradient Boost gives the best Accuracy compared to other models.\n",
    "\n",
    "2) Exercise induced angina,Chest pain is major symptoms of heart attack.\n",
    "\n",
    "3) Ensembling technique increases the accuracy of the model.\n",
    "\n"
   ]
  },
  {
   "cell_type": "code",
   "execution_count": null,
   "metadata": {},
   "outputs": [],
   "source": []
  },
  {
   "cell_type": "code",
   "execution_count": 5,
   "metadata": {},
   "outputs": [
    {
     "data": {
      "text/plain": [
       "'C:\\\\Users\\\\STSC'"
      ]
     },
     "execution_count": 5,
     "metadata": {},
     "output_type": "execute_result"
    }
   ],
   "source": [
    "pwd"
   ]
  }
 ],
 "metadata": {
  "kernelspec": {
   "display_name": "Python 3 (ipykernel)",
   "language": "python",
   "name": "python3"
  },
  "language_info": {
   "codemirror_mode": {
    "name": "ipython",
    "version": 3
   },
   "file_extension": ".py",
   "mimetype": "text/x-python",
   "name": "python",
   "nbconvert_exporter": "python",
   "pygments_lexer": "ipython3",
   "version": "3.9.12"
  }
 },
 "nbformat": 4,
 "nbformat_minor": 4
}
